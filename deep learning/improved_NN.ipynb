{
 "cells": [
  {
   "cell_type": "markdown",
   "id": "e17526c5-3acb-43d0-b26b-cc478db30047",
   "metadata": {},
   "source": [
    "# Graduate Project of CNN Regression version 3.1 - Improved NN"
   ]
  },
  {
   "cell_type": "markdown",
   "id": "e6cf6d79-850a-4c77-b693-328438300c55",
   "metadata": {},
   "source": [
    "## Initialize machine learning library"
   ]
  },
  {
   "cell_type": "code",
   "execution_count": 31,
   "id": "e24f60bd-651a-4468-b6ca-333b32f9adf2",
   "metadata": {},
   "outputs": [
    {
     "name": "stdout",
     "output_type": "stream",
     "text": [
      "2.6.0+cpu\n"
     ]
    }
   ],
   "source": [
    "import numpy as np\n",
    "import pandas as pd\n",
    "import torch\n",
    "import torch.nn as nn\n",
    "import torch.optim as opt\n",
    "import matplotlib.pyplot as plt\n",
    "from torch.utils.data import Dataset, DataLoader\n",
    "%matplotlib inline\n",
    "print(torch.__version__)"
   ]
  },
  {
   "cell_type": "markdown",
   "id": "6e487791-e49f-49d5-a0bb-52b28b77d259",
   "metadata": {},
   "source": [
    "### Set computing device as CPU"
   ]
  },
  {
   "cell_type": "code",
   "execution_count": 32,
   "id": "8268b9f9-9ecd-4d3d-a3f0-c80c0ec16b42",
   "metadata": {},
   "outputs": [
    {
     "name": "stdout",
     "output_type": "stream",
     "text": [
      "Using Device: cpu\n"
     ]
    }
   ],
   "source": [
    "device = torch.device(\"cpu\")\n",
    "print(f\"Using Device: {device}\")"
   ]
  },
  {
   "cell_type": "markdown",
   "id": "a1871f62-7dae-4f4d-896a-8adb96384d69",
   "metadata": {},
   "source": [
    "## Data load in and pre-processing"
   ]
  },
  {
   "cell_type": "code",
   "execution_count": 33,
   "id": "8967da26-766d-47c7-8db4-17c176239f15",
   "metadata": {},
   "outputs": [
    {
     "data": {
      "text/html": [
       "<div>\n",
       "<style scoped>\n",
       "    .dataframe tbody tr th:only-of-type {\n",
       "        vertical-align: middle;\n",
       "    }\n",
       "\n",
       "    .dataframe tbody tr th {\n",
       "        vertical-align: top;\n",
       "    }\n",
       "\n",
       "    .dataframe thead th {\n",
       "        text-align: right;\n",
       "    }\n",
       "</style>\n",
       "<table border=\"1\" class=\"dataframe\">\n",
       "  <thead>\n",
       "    <tr style=\"text-align: right;\">\n",
       "      <th></th>\n",
       "      <th>0</th>\n",
       "      <th>1</th>\n",
       "      <th>2</th>\n",
       "      <th>3</th>\n",
       "      <th>4</th>\n",
       "      <th>5</th>\n",
       "      <th>6</th>\n",
       "      <th>7</th>\n",
       "      <th>8</th>\n",
       "      <th>9</th>\n",
       "      <th>...</th>\n",
       "      <th>500</th>\n",
       "      <th>501</th>\n",
       "      <th>502</th>\n",
       "      <th>503</th>\n",
       "      <th>504</th>\n",
       "      <th>505</th>\n",
       "      <th>506</th>\n",
       "      <th>507</th>\n",
       "      <th>508</th>\n",
       "      <th>509</th>\n",
       "    </tr>\n",
       "  </thead>\n",
       "  <tbody>\n",
       "    <tr>\n",
       "      <th>0</th>\n",
       "      <td>70.0</td>\n",
       "      <td>200.0</td>\n",
       "      <td>300.0</td>\n",
       "      <td>28.801196</td>\n",
       "      <td>81.105366</td>\n",
       "      <td>6125.0</td>\n",
       "      <td>5690.0</td>\n",
       "      <td>6560.0</td>\n",
       "      <td>870.0</td>\n",
       "      <td>-120.782809</td>\n",
       "      <td>...</td>\n",
       "      <td>-118.949780</td>\n",
       "      <td>-118.499691</td>\n",
       "      <td>-118.020283</td>\n",
       "      <td>-117.503018</td>\n",
       "      <td>-116.936596</td>\n",
       "      <td>-116.305609</td>\n",
       "      <td>-115.588315</td>\n",
       "      <td>-114.752730</td>\n",
       "      <td>-113.749309</td>\n",
       "      <td>-112.495888</td>\n",
       "    </tr>\n",
       "    <tr>\n",
       "      <th>1</th>\n",
       "      <td>70.0</td>\n",
       "      <td>200.0</td>\n",
       "      <td>400.0</td>\n",
       "      <td>2.517709</td>\n",
       "      <td>47.612011</td>\n",
       "      <td>3860.0</td>\n",
       "      <td>3840.0</td>\n",
       "      <td>3880.0</td>\n",
       "      <td>40.0</td>\n",
       "      <td>-121.070769</td>\n",
       "      <td>...</td>\n",
       "      <td>-116.630247</td>\n",
       "      <td>-116.579676</td>\n",
       "      <td>-116.529680</td>\n",
       "      <td>-116.480227</td>\n",
       "      <td>-116.431285</td>\n",
       "      <td>-116.382825</td>\n",
       "      <td>-116.334820</td>\n",
       "      <td>-116.287244</td>\n",
       "      <td>-116.240073</td>\n",
       "      <td>-116.193283</td>\n",
       "    </tr>\n",
       "    <tr>\n",
       "      <th>2</th>\n",
       "      <td>70.0</td>\n",
       "      <td>200.0</td>\n",
       "      <td>500.0</td>\n",
       "      <td>3.068820</td>\n",
       "      <td>63.245190</td>\n",
       "      <td>3945.0</td>\n",
       "      <td>3920.0</td>\n",
       "      <td>3970.0</td>\n",
       "      <td>50.0</td>\n",
       "      <td>-121.322709</td>\n",
       "      <td>...</td>\n",
       "      <td>-113.516857</td>\n",
       "      <td>-113.319928</td>\n",
       "      <td>-113.096880</td>\n",
       "      <td>-112.840765</td>\n",
       "      <td>-112.541882</td>\n",
       "      <td>-112.186250</td>\n",
       "      <td>-111.752916</td>\n",
       "      <td>-111.208943</td>\n",
       "      <td>-110.499310</td>\n",
       "      <td>-109.524470</td>\n",
       "    </tr>\n",
       "    <tr>\n",
       "      <th>3</th>\n",
       "      <td>70.0</td>\n",
       "      <td>200.0</td>\n",
       "      <td>600.0</td>\n",
       "      <td>5.874144</td>\n",
       "      <td>55.115136</td>\n",
       "      <td>4050.0</td>\n",
       "      <td>4000.0</td>\n",
       "      <td>4100.0</td>\n",
       "      <td>100.0</td>\n",
       "      <td>-121.477196</td>\n",
       "      <td>...</td>\n",
       "      <td>-108.600004</td>\n",
       "      <td>-104.475919</td>\n",
       "      <td>-92.225585</td>\n",
       "      <td>-111.170745</td>\n",
       "      <td>-123.172305</td>\n",
       "      <td>-140.835187</td>\n",
       "      <td>-127.837068</td>\n",
       "      <td>-124.087345</td>\n",
       "      <td>-122.231465</td>\n",
       "      <td>-121.097501</td>\n",
       "    </tr>\n",
       "    <tr>\n",
       "      <th>4</th>\n",
       "      <td>70.0</td>\n",
       "      <td>200.0</td>\n",
       "      <td>700.0</td>\n",
       "      <td>-123.202804</td>\n",
       "      <td>67.654798</td>\n",
       "      <td>3635.0</td>\n",
       "      <td>4160.0</td>\n",
       "      <td>3110.0</td>\n",
       "      <td>-1050.0</td>\n",
       "      <td>-121.156614</td>\n",
       "      <td>...</td>\n",
       "      <td>-116.668022</td>\n",
       "      <td>-116.650467</td>\n",
       "      <td>-116.633328</td>\n",
       "      <td>-116.616634</td>\n",
       "      <td>-116.600387</td>\n",
       "      <td>-116.584503</td>\n",
       "      <td>-116.569146</td>\n",
       "      <td>-116.554043</td>\n",
       "      <td>-116.539304</td>\n",
       "      <td>-116.524892</td>\n",
       "    </tr>\n",
       "  </tbody>\n",
       "</table>\n",
       "<p>5 rows × 510 columns</p>\n",
       "</div>"
      ],
      "text/plain": [
       "    0      1      2           3          4       5       6       7       8    \\\n",
       "0  70.0  200.0  300.0   28.801196  81.105366  6125.0  5690.0  6560.0   870.0   \n",
       "1  70.0  200.0  400.0    2.517709  47.612011  3860.0  3840.0  3880.0    40.0   \n",
       "2  70.0  200.0  500.0    3.068820  63.245190  3945.0  3920.0  3970.0    50.0   \n",
       "3  70.0  200.0  600.0    5.874144  55.115136  4050.0  4000.0  4100.0   100.0   \n",
       "4  70.0  200.0  700.0 -123.202804  67.654798  3635.0  4160.0  3110.0 -1050.0   \n",
       "\n",
       "          9    ...         500         501         502         503  \\\n",
       "0 -120.782809  ... -118.949780 -118.499691 -118.020283 -117.503018   \n",
       "1 -121.070769  ... -116.630247 -116.579676 -116.529680 -116.480227   \n",
       "2 -121.322709  ... -113.516857 -113.319928 -113.096880 -112.840765   \n",
       "3 -121.477196  ... -108.600004 -104.475919  -92.225585 -111.170745   \n",
       "4 -121.156614  ... -116.668022 -116.650467 -116.633328 -116.616634   \n",
       "\n",
       "          504         505         506         507         508         509  \n",
       "0 -116.936596 -116.305609 -115.588315 -114.752730 -113.749309 -112.495888  \n",
       "1 -116.431285 -116.382825 -116.334820 -116.287244 -116.240073 -116.193283  \n",
       "2 -112.541882 -112.186250 -111.752916 -111.208943 -110.499310 -109.524470  \n",
       "3 -123.172305 -140.835187 -127.837068 -124.087345 -122.231465 -121.097501  \n",
       "4 -116.600387 -116.584503 -116.569146 -116.554043 -116.539304 -116.524892  \n",
       "\n",
       "[5 rows x 510 columns]"
      ]
     },
     "execution_count": 33,
     "metadata": {},
     "output_type": "execute_result"
    }
   ],
   "source": [
    "features = pd.read_csv(\"/home/seb/Project/BEng-Graduate/data/data.csv\", header=None)\n",
    "features = features.transpose()\n",
    "# features = data.values.T.astype(np.float32)\n",
    "features.head()"
   ]
  },
  {
   "cell_type": "markdown",
   "id": "fbeee103-8939-4f12-941f-0a7592278fb8",
   "metadata": {},
   "source": [
    "Check data shape"
   ]
  },
  {
   "cell_type": "code",
   "execution_count": 34,
   "id": "f8efcefb-974f-49ef-99fe-6cbffa978b1d",
   "metadata": {},
   "outputs": [
    {
     "name": "stdout",
     "output_type": "stream",
     "text": [
      "data dimension: (392, 510)\n"
     ]
    }
   ],
   "source": [
    "print(\"data dimension:\", features.shape)"
   ]
  },
  {
   "cell_type": "markdown",
   "id": "fc15e7c0-e570-4cc9-8395-376964a4ffc3",
   "metadata": {},
   "source": [
    "### Set label and transform it into a nparray"
   ]
  },
  {
   "cell_type": "code",
   "execution_count": 35,
   "id": "9f0cdc4b-56c2-46bf-9d8e-a7a5cc7ba485",
   "metadata": {},
   "outputs": [
    {
     "data": {
      "text/plain": [
       "(392, 9)"
      ]
     },
     "execution_count": 35,
     "metadata": {},
     "output_type": "execute_result"
    }
   ],
   "source": [
    "labels = np.array(features.iloc[:,9:])\n",
    "\n",
    "# Delete label in feature array\n",
    "features = np.array(features.iloc[:, :9])\n",
    "features.shape"
   ]
  },
  {
   "cell_type": "markdown",
   "id": "345bd4ca-6930-4185-9e30-0176b0f3969a",
   "metadata": {},
   "source": [
    "### Data standardization using sklearn"
   ]
  },
  {
   "cell_type": "code",
   "execution_count": 36,
   "id": "bd51a9c2-f168-4061-a4b8-4e29522df75f",
   "metadata": {},
   "outputs": [
    {
     "data": {
      "text/plain": [
       "array([-1.5       , -1.5       , -1.52752523,  0.47353794,  0.91441986,\n",
       "        2.55646587,  2.22862805,  2.44093019,  1.07199055])"
      ]
     },
     "execution_count": 36,
     "metadata": {},
     "output_type": "execute_result"
    }
   ],
   "source": [
    "from sklearn import preprocessing\n",
    "input_features = preprocessing.StandardScaler().fit_transform(features)\n",
    "input_features[0]"
   ]
  },
  {
   "cell_type": "markdown",
   "id": "0cf28e1e-d1a4-4ade-b123-b6ff6462da34",
   "metadata": {},
   "source": [
    "## Constract Neural Network"
   ]
  },
  {
   "cell_type": "markdown",
   "id": "4339ccab-1a21-465e-a0da-92cca3dcaf29",
   "metadata": {},
   "source": [
    "### Set up a triple-layer with 256 nodes network using MSE and Adam"
   ]
  },
  {
   "cell_type": "code",
   "execution_count": 37,
   "id": "33c36802-34bf-4dd0-a084-3db4b0898aef",
   "metadata": {},
   "outputs": [],
   "source": [
    "input_size = input_features.shape[1]\n",
    "h1_size = 256\n",
    "h2_size = 256\n",
    "h3_size = 256\n",
    "out_size = 501\n",
    "\n",
    "# update error by batch\n",
    "batch_size = 16\n",
    "\n",
    "# set up neural network using package\n",
    "imp_nn = torch.nn.Sequential(\n",
    "    torch.nn.Linear(input_size, h1_size),\n",
    "    torch.nn.ReLU(), # nn.ReLU() is also common\n",
    "    torch.nn.Linear(h1_size, h2_size),\n",
    "    torch.nn.ReLU(),\n",
    "    torch.nn.Linear(h2_size, h3_size),\n",
    "    torch.nn.ReLU(),\n",
    "    torch.nn.Linear(h3_size, out_size),\n",
    ")\n",
    "\n",
    "# Using MSE Loss function\n",
    "cost = torch.nn.MSELoss(reduction='mean')\n",
    "\n",
    "# Adam optim\n",
    "optimizer = torch.optim.Adam(imp_nn.parameters(), lr=0.0001)"
   ]
  },
  {
   "cell_type": "markdown",
   "id": "a8298ed3-cb8a-4b47-96f6-e8ad9913b595",
   "metadata": {},
   "source": [
    "### Training"
   ]
  },
  {
   "cell_type": "code",
   "execution_count": 38,
   "id": "10b527f6-dd79-48e4-ac03-a7b2403e705a",
   "metadata": {},
   "outputs": [
    {
     "name": "stdout",
     "output_type": "stream",
     "text": [
      "Step: 0 Loss: 14049.067\n",
      "Step: 100 Loss: 95.39322\n",
      "Step: 200 Loss: 71.72429\n",
      "Step: 300 Loss: 70.42148\n",
      "Step: 400 Loss: 64.73194\n",
      "Step: 500 Loss: 61.680798\n",
      "Step: 600 Loss: 56.721954\n",
      "Step: 700 Loss: 54.63654\n",
      "Step: 800 Loss: 51.81833\n",
      "Step: 900 Loss: 48.78214\n",
      "Step: 1000 Loss: 44.93892\n",
      "Step: 1100 Loss: 40.49601\n",
      "Step: 1200 Loss: 36.116898\n",
      "Step: 1300 Loss: 31.607498\n",
      "Step: 1400 Loss: 29.21965\n",
      "Step: 1500 Loss: 28.055984\n",
      "Step: 1600 Loss: 27.380146\n",
      "Step: 1700 Loss: 26.99572\n",
      "Step: 1800 Loss: 26.699326\n",
      "Step: 1900 Loss: 26.414614\n",
      "Step: 2000 Loss: 26.220608\n",
      "Step: 2100 Loss: 26.064537\n",
      "Step: 2200 Loss: 25.923834\n",
      "Step: 2300 Loss: 25.825188\n",
      "Step: 2400 Loss: 25.771614\n",
      "Step: 2500 Loss: 25.650791\n",
      "Step: 2600 Loss: 25.5586\n",
      "Step: 2700 Loss: 25.382793\n",
      "Step: 2800 Loss: 25.271938\n",
      "Step: 2900 Loss: 25.167793\n",
      "Step: 3000 Loss: 25.047623\n",
      "Step: 3100 Loss: 24.930822\n",
      "Step: 3200 Loss: 24.78745\n",
      "Step: 3300 Loss: 24.686518\n",
      "Step: 3400 Loss: 24.539272\n",
      "Step: 3500 Loss: 24.419182\n",
      "Step: 3600 Loss: 24.325659\n",
      "Step: 3700 Loss: 24.215757\n",
      "Step: 3800 Loss: 24.09988\n",
      "Step: 3900 Loss: 23.991186\n",
      "Step: 4000 Loss: 23.89068\n",
      "Step: 4100 Loss: 23.787739\n",
      "Step: 4200 Loss: 23.699997\n",
      "Step: 4300 Loss: 23.58594\n",
      "Step: 4400 Loss: 23.48038\n",
      "Step: 4500 Loss: 23.395363\n",
      "Step: 4600 Loss: 23.34448\n",
      "Step: 4700 Loss: 23.223743\n",
      "Step: 4800 Loss: 23.15619\n",
      "Step: 4900 Loss: 23.072681\n",
      "Step: 5000 Loss: 23.037144\n",
      "Step: 5100 Loss: 22.895971\n",
      "Step: 5200 Loss: 22.774714\n",
      "Step: 5300 Loss: 22.803595\n",
      "Step: 5400 Loss: 22.706215\n",
      "Step: 5500 Loss: 22.632673\n",
      "Step: 5600 Loss: 22.474445\n",
      "Step: 5700 Loss: 22.421093\n",
      "Step: 5800 Loss: 22.419922\n",
      "Step: 5900 Loss: 22.260565\n",
      "Step: 6000 Loss: 22.193232\n",
      "Step: 6100 Loss: 22.177452\n",
      "Step: 6200 Loss: 22.120066\n",
      "Step: 6300 Loss: 21.99511\n",
      "Step: 6400 Loss: 21.903143\n",
      "Step: 6500 Loss: 21.811968\n",
      "Step: 6600 Loss: 21.752796\n",
      "Step: 6700 Loss: 21.689934\n",
      "Step: 6800 Loss: 21.681162\n",
      "Step: 6900 Loss: 21.615175\n",
      "Step: 7000 Loss: 21.491632\n",
      "Step: 7100 Loss: 21.38745\n",
      "Step: 7200 Loss: 21.324905\n",
      "Step: 7300 Loss: 21.189651\n",
      "Step: 7400 Loss: 21.19143\n",
      "Step: 7500 Loss: 21.025171\n",
      "Step: 7600 Loss: 20.959045\n",
      "Step: 7700 Loss: 20.891104\n",
      "Step: 7800 Loss: 20.751945\n",
      "Step: 7900 Loss: 20.655571\n",
      "Step: 8000 Loss: 20.629644\n",
      "Step: 8100 Loss: 20.483889\n",
      "Step: 8200 Loss: 20.379185\n",
      "Step: 8300 Loss: 20.246172\n",
      "Step: 8400 Loss: 20.146059\n",
      "Step: 8500 Loss: 20.069422\n",
      "Step: 8600 Loss: 19.93219\n",
      "Step: 8700 Loss: 19.843033\n",
      "Step: 8800 Loss: 19.77703\n",
      "Step: 8900 Loss: 19.639097\n",
      "Step: 9000 Loss: 19.540438\n",
      "Step: 9100 Loss: 19.415035\n",
      "Step: 9200 Loss: 19.320473\n",
      "Step: 9300 Loss: 19.25301\n",
      "Step: 9400 Loss: 19.073704\n",
      "Step: 9500 Loss: 19.01246\n",
      "Step: 9600 Loss: 18.934639\n",
      "Step: 9700 Loss: 18.793217\n",
      "Step: 9800 Loss: 18.664833\n",
      "Step: 9900 Loss: 18.57331\n"
     ]
    }
   ],
   "source": [
    "losses = []\n",
    "for i in range(10000):\n",
    "    # Record batch loss\n",
    "    batch_loss = []\n",
    "    \n",
    "    # Training by MINI-BATCH\n",
    "    for start in range(0, len(input_features), batch_size):\n",
    "        if start + batch_size < len(input_features):\n",
    "            end = start + batch_size\n",
    "        else:\n",
    "            end = len(input_features)\n",
    "        xx = torch.tensor(input_features[start:end], dtype=torch.float, requires_grad=True)\n",
    "        yy = torch.tensor(labels[start:end], dtype=torch.float, requires_grad=True)\n",
    "        prediction = imp_nn(xx)\n",
    "        loss = cost(prediction, yy)\n",
    "        optimizer.zero_grad()\n",
    "        loss.backward(retain_graph=True)\n",
    "        optimizer.step()\n",
    "        batch_loss.append(loss.data.numpy())\n",
    "\n",
    "    # Print loss every 100 steps\n",
    "    if i % 100 == 0:\n",
    "        losses.append(np.mean(batch_loss))\n",
    "        print(\"Step:\", i, \"Loss:\", np.mean(batch_loss))"
   ]
  },
  {
   "cell_type": "markdown",
   "id": "a7b908eb-9203-4702-912c-90dc36937bf3",
   "metadata": {},
   "source": [
    "### Predict training results"
   ]
  },
  {
   "cell_type": "code",
   "execution_count": 29,
   "id": "d16e644d-5b4c-4a2d-95f2-dfa9657044b6",
   "metadata": {},
   "outputs": [
    {
     "data": {
      "text/plain": [
       "(392, 501)"
      ]
     },
     "execution_count": 29,
     "metadata": {},
     "output_type": "execute_result"
    }
   ],
   "source": [
    "x = torch.tensor(input_features,dtype=torch.float)\n",
    "predict = imp_nn(x).data.numpy()\n",
    "predict.shape"
   ]
  },
  {
   "cell_type": "markdown",
   "id": "bf1ee01a-bbc9-44b4-a075-3f243f093165",
   "metadata": {},
   "source": [
    "### Compare predictions to actural values"
   ]
  },
  {
   "cell_type": "code",
   "execution_count": 30,
   "id": "e3fb6d09-871a-4ed9-a572-aa75d40151b6",
   "metadata": {},
   "outputs": [
    {
     "data": {
      "image/png": "[encoded data removed]",
      "text/plain": [
       "<Figure size 640x480 with 1 Axes>"
      ]
     },
     "metadata": {},
     "output_type": "display_data"
    }
   ],
   "source": [
    "# Set group number array\n",
    "# group_num = np.arange(1, 393)\n",
    "\n",
    "# Compare actural values with prediction\n",
    "plt.plot(labels[:, 0], predict[:, 0], 'b-')\n",
    "\n",
    "# Set graph config\n",
    "plt.xlabel('Actural'); plt.ylabel('Prediction'); plt.title('Prediction vs Actural')\n",
    "plt.show()"
   ]
  },
  {
   "cell_type": "code",
   "execution_count": null,
   "id": "8348b9f5-8dba-4850-87f1-65bf22a6bdc1",
   "metadata": {},
   "outputs": [],
   "source": []
  }
 ],
 "metadata": {
  "kernelspec": {
   "display_name": "Python 3 (ipykernel)",
   "language": "python",
   "name": "python3"
  },
  "language_info": {
   "codemirror_mode": {
    "name": "ipython",
    "version": 3
   },
   "file_extension": ".py",
   "mimetype": "text/x-python",
   "name": "python",
   "nbconvert_exporter": "python",
   "pygments_lexer": "ipython3",
   "version": "3.12.7"
  }
 },
 "nbformat": 4,
 "nbformat_minor": 5
}
