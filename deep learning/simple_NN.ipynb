{
 "cells": [
  {
   "cell_type": "markdown",
   "id": "e17526c5-3acb-43d0-b26b-cc478db30047",
   "metadata": {},
   "source": [
    "# Graduate Project of CNN Regression version 3.0 - Simple NN"
   ]
  },
  {
   "cell_type": "markdown",
   "id": "e6cf6d79-850a-4c77-b693-328438300c55",
   "metadata": {},
   "source": [
    "## Initialize machine learning library"
   ]
  },
  {
   "cell_type": "code",
   "execution_count": 235,
   "id": "e24f60bd-651a-4468-b6ca-333b32f9adf2",
   "metadata": {},
   "outputs": [
    {
     "name": "stdout",
     "output_type": "stream",
     "text": [
      "2.6.0+cpu\n"
     ]
    }
   ],
   "source": [
    "import numpy as np\n",
    "import pandas as pd\n",
    "import torch\n",
    "import torch.nn as nn\n",
    "import torch.optim as opt\n",
    "import matplotlib.pyplot as plt\n",
    "from torch.utils.data import Dataset, DataLoader\n",
    "%matplotlib inline\n",
    "print(torch.__version__)"
   ]
  },
  {
   "cell_type": "markdown",
   "id": "6e487791-e49f-49d5-a0bb-52b28b77d259",
   "metadata": {},
   "source": [
    "### Set computing device as CPU"
   ]
  },
  {
   "cell_type": "code",
   "execution_count": 236,
   "id": "8268b9f9-9ecd-4d3d-a3f0-c80c0ec16b42",
   "metadata": {},
   "outputs": [
    {
     "name": "stdout",
     "output_type": "stream",
     "text": [
      "Using Device: cpu\n"
     ]
    }
   ],
   "source": [
    "device = torch.device(\"cpu\")\n",
    "print(f\"Using Device: {device}\")"
   ]
  },
  {
   "cell_type": "markdown",
   "id": "a1871f62-7dae-4f4d-896a-8adb96384d69",
   "metadata": {},
   "source": [
    "## Data load in and pre-processing"
   ]
  },
  {
   "cell_type": "code",
   "execution_count": 237,
   "id": "8967da26-766d-47c7-8db4-17c176239f15",
   "metadata": {},
   "outputs": [
    {
     "data": {
      "text/html": [
       "<div>\n",
       "<style scoped>\n",
       "    .dataframe tbody tr th:only-of-type {\n",
       "        vertical-align: middle;\n",
       "    }\n",
       "\n",
       "    .dataframe tbody tr th {\n",
       "        vertical-align: top;\n",
       "    }\n",
       "\n",
       "    .dataframe thead th {\n",
       "        text-align: right;\n",
       "    }\n",
       "</style>\n",
       "<table border=\"1\" class=\"dataframe\">\n",
       "  <thead>\n",
       "    <tr style=\"text-align: right;\">\n",
       "      <th></th>\n",
       "      <th>0</th>\n",
       "      <th>1</th>\n",
       "      <th>2</th>\n",
       "      <th>3</th>\n",
       "      <th>4</th>\n",
       "      <th>5</th>\n",
       "      <th>6</th>\n",
       "      <th>7</th>\n",
       "      <th>8</th>\n",
       "      <th>9</th>\n",
       "      <th>...</th>\n",
       "      <th>500</th>\n",
       "      <th>501</th>\n",
       "      <th>502</th>\n",
       "      <th>503</th>\n",
       "      <th>504</th>\n",
       "      <th>505</th>\n",
       "      <th>506</th>\n",
       "      <th>507</th>\n",
       "      <th>508</th>\n",
       "      <th>509</th>\n",
       "    </tr>\n",
       "  </thead>\n",
       "  <tbody>\n",
       "    <tr>\n",
       "      <th>0</th>\n",
       "      <td>70.0</td>\n",
       "      <td>200.0</td>\n",
       "      <td>300.0</td>\n",
       "      <td>28.801196</td>\n",
       "      <td>81.105366</td>\n",
       "      <td>6125.0</td>\n",
       "      <td>5690.0</td>\n",
       "      <td>6560.0</td>\n",
       "      <td>870.0</td>\n",
       "      <td>-120.782809</td>\n",
       "      <td>...</td>\n",
       "      <td>-118.949780</td>\n",
       "      <td>-118.499691</td>\n",
       "      <td>-118.020283</td>\n",
       "      <td>-117.503018</td>\n",
       "      <td>-116.936596</td>\n",
       "      <td>-116.305609</td>\n",
       "      <td>-115.588315</td>\n",
       "      <td>-114.752730</td>\n",
       "      <td>-113.749309</td>\n",
       "      <td>-112.495888</td>\n",
       "    </tr>\n",
       "    <tr>\n",
       "      <th>1</th>\n",
       "      <td>70.0</td>\n",
       "      <td>200.0</td>\n",
       "      <td>400.0</td>\n",
       "      <td>2.517709</td>\n",
       "      <td>47.612011</td>\n",
       "      <td>3860.0</td>\n",
       "      <td>3840.0</td>\n",
       "      <td>3880.0</td>\n",
       "      <td>40.0</td>\n",
       "      <td>-121.070769</td>\n",
       "      <td>...</td>\n",
       "      <td>-116.630247</td>\n",
       "      <td>-116.579676</td>\n",
       "      <td>-116.529680</td>\n",
       "      <td>-116.480227</td>\n",
       "      <td>-116.431285</td>\n",
       "      <td>-116.382825</td>\n",
       "      <td>-116.334820</td>\n",
       "      <td>-116.287244</td>\n",
       "      <td>-116.240073</td>\n",
       "      <td>-116.193283</td>\n",
       "    </tr>\n",
       "    <tr>\n",
       "      <th>2</th>\n",
       "      <td>70.0</td>\n",
       "      <td>200.0</td>\n",
       "      <td>500.0</td>\n",
       "      <td>3.068820</td>\n",
       "      <td>63.245190</td>\n",
       "      <td>3945.0</td>\n",
       "      <td>3920.0</td>\n",
       "      <td>3970.0</td>\n",
       "      <td>50.0</td>\n",
       "      <td>-121.322709</td>\n",
       "      <td>...</td>\n",
       "      <td>-113.516857</td>\n",
       "      <td>-113.319928</td>\n",
       "      <td>-113.096880</td>\n",
       "      <td>-112.840765</td>\n",
       "      <td>-112.541882</td>\n",
       "      <td>-112.186250</td>\n",
       "      <td>-111.752916</td>\n",
       "      <td>-111.208943</td>\n",
       "      <td>-110.499310</td>\n",
       "      <td>-109.524470</td>\n",
       "    </tr>\n",
       "    <tr>\n",
       "      <th>3</th>\n",
       "      <td>70.0</td>\n",
       "      <td>200.0</td>\n",
       "      <td>600.0</td>\n",
       "      <td>5.874144</td>\n",
       "      <td>55.115136</td>\n",
       "      <td>4050.0</td>\n",
       "      <td>4000.0</td>\n",
       "      <td>4100.0</td>\n",
       "      <td>100.0</td>\n",
       "      <td>-121.477196</td>\n",
       "      <td>...</td>\n",
       "      <td>-108.600004</td>\n",
       "      <td>-104.475919</td>\n",
       "      <td>-92.225585</td>\n",
       "      <td>-111.170745</td>\n",
       "      <td>-123.172305</td>\n",
       "      <td>-140.835187</td>\n",
       "      <td>-127.837068</td>\n",
       "      <td>-124.087345</td>\n",
       "      <td>-122.231465</td>\n",
       "      <td>-121.097501</td>\n",
       "    </tr>\n",
       "    <tr>\n",
       "      <th>4</th>\n",
       "      <td>70.0</td>\n",
       "      <td>200.0</td>\n",
       "      <td>700.0</td>\n",
       "      <td>-123.202804</td>\n",
       "      <td>67.654798</td>\n",
       "      <td>3635.0</td>\n",
       "      <td>4160.0</td>\n",
       "      <td>3110.0</td>\n",
       "      <td>-1050.0</td>\n",
       "      <td>-121.156614</td>\n",
       "      <td>...</td>\n",
       "      <td>-116.668022</td>\n",
       "      <td>-116.650467</td>\n",
       "      <td>-116.633328</td>\n",
       "      <td>-116.616634</td>\n",
       "      <td>-116.600387</td>\n",
       "      <td>-116.584503</td>\n",
       "      <td>-116.569146</td>\n",
       "      <td>-116.554043</td>\n",
       "      <td>-116.539304</td>\n",
       "      <td>-116.524892</td>\n",
       "    </tr>\n",
       "  </tbody>\n",
       "</table>\n",
       "<p>5 rows × 510 columns</p>\n",
       "</div>"
      ],
      "text/plain": [
       "    0      1      2           3          4       5       6       7       8    \\\n",
       "0  70.0  200.0  300.0   28.801196  81.105366  6125.0  5690.0  6560.0   870.0   \n",
       "1  70.0  200.0  400.0    2.517709  47.612011  3860.0  3840.0  3880.0    40.0   \n",
       "2  70.0  200.0  500.0    3.068820  63.245190  3945.0  3920.0  3970.0    50.0   \n",
       "3  70.0  200.0  600.0    5.874144  55.115136  4050.0  4000.0  4100.0   100.0   \n",
       "4  70.0  200.0  700.0 -123.202804  67.654798  3635.0  4160.0  3110.0 -1050.0   \n",
       "\n",
       "          9    ...         500         501         502         503  \\\n",
       "0 -120.782809  ... -118.949780 -118.499691 -118.020283 -117.503018   \n",
       "1 -121.070769  ... -116.630247 -116.579676 -116.529680 -116.480227   \n",
       "2 -121.322709  ... -113.516857 -113.319928 -113.096880 -112.840765   \n",
       "3 -121.477196  ... -108.600004 -104.475919  -92.225585 -111.170745   \n",
       "4 -121.156614  ... -116.668022 -116.650467 -116.633328 -116.616634   \n",
       "\n",
       "          504         505         506         507         508         509  \n",
       "0 -116.936596 -116.305609 -115.588315 -114.752730 -113.749309 -112.495888  \n",
       "1 -116.431285 -116.382825 -116.334820 -116.287244 -116.240073 -116.193283  \n",
       "2 -112.541882 -112.186250 -111.752916 -111.208943 -110.499310 -109.524470  \n",
       "3 -123.172305 -140.835187 -127.837068 -124.087345 -122.231465 -121.097501  \n",
       "4 -116.600387 -116.584503 -116.569146 -116.554043 -116.539304 -116.524892  \n",
       "\n",
       "[5 rows x 510 columns]"
      ]
     },
     "execution_count": 237,
     "metadata": {},
     "output_type": "execute_result"
    }
   ],
   "source": [
    "features = pd.read_csv(\"/home/seb/Project/BEng-Graduate/data/data.csv\", header=None)\n",
    "features = features.transpose()\n",
    "# features = data.values.T.astype(np.float32)\n",
    "features.head()"
   ]
  },
  {
   "cell_type": "markdown",
   "id": "fbeee103-8939-4f12-941f-0a7592278fb8",
   "metadata": {},
   "source": [
    "Check data shape"
   ]
  },
  {
   "cell_type": "code",
   "execution_count": 238,
   "id": "f8efcefb-974f-49ef-99fe-6cbffa978b1d",
   "metadata": {},
   "outputs": [
    {
     "name": "stdout",
     "output_type": "stream",
     "text": [
      "data dimension: (392, 510)\n"
     ]
    }
   ],
   "source": [
    "print(\"data dimension:\", features.shape)"
   ]
  },
  {
   "cell_type": "markdown",
   "id": "fc15e7c0-e570-4cc9-8395-376964a4ffc3",
   "metadata": {},
   "source": [
    "### Set label and transform it into a nparray"
   ]
  },
  {
   "cell_type": "code",
   "execution_count": 239,
   "id": "9f0cdc4b-56c2-46bf-9d8e-a7a5cc7ba485",
   "metadata": {},
   "outputs": [
    {
     "data": {
      "text/plain": [
       "(392, 9)"
      ]
     },
     "execution_count": 239,
     "metadata": {},
     "output_type": "execute_result"
    }
   ],
   "source": [
    "labels = np.array(features.iloc[:,9:])\n",
    "\n",
    "# Delete label in feature array\n",
    "features = np.array(features.iloc[:, :9])\n",
    "features.shape"
   ]
  },
  {
   "cell_type": "markdown",
   "id": "345bd4ca-6930-4185-9e30-0176b0f3969a",
   "metadata": {},
   "source": [
    "### Data standardization using sklearn"
   ]
  },
  {
   "cell_type": "code",
   "execution_count": 240,
   "id": "bd51a9c2-f168-4061-a4b8-4e29522df75f",
   "metadata": {},
   "outputs": [
    {
     "data": {
      "text/plain": [
       "array([-1.5       , -1.5       , -1.52752523,  0.47353794,  0.91441986,\n",
       "        2.55646587,  2.22862805,  2.44093019,  1.07199055])"
      ]
     },
     "execution_count": 240,
     "metadata": {},
     "output_type": "execute_result"
    }
   ],
   "source": [
    "from sklearn import preprocessing\n",
    "input_features = preprocessing.StandardScaler().fit_transform(features)\n",
    "input_features[0]"
   ]
  },
  {
   "cell_type": "markdown",
   "id": "0cf28e1e-d1a4-4ade-b123-b6ff6462da34",
   "metadata": {},
   "source": [
    "## Constract Neural Network"
   ]
  },
  {
   "cell_type": "markdown",
   "id": "7b6ca41d-0f22-4ae1-8150-2ea50e8ae86e",
   "metadata": {},
   "source": [
    "### Transform np.array to torch tensor"
   ]
  },
  {
   "cell_type": "code",
   "execution_count": 241,
   "id": "0ce17298-39aa-405b-b58d-a96eab16a1bd",
   "metadata": {},
   "outputs": [],
   "source": [
    "x = torch.tensor(input_features, dtype=float)\n",
    "y = torch.tensor(labels, dtype=float)"
   ]
  },
  {
   "cell_type": "markdown",
   "id": "48d06e66-62ee-41c9-86d0-72b8e92a05bc",
   "metadata": {},
   "source": [
    "### Randomly initialize weight and bias"
   ]
  },
  {
   "cell_type": "code",
   "execution_count": 242,
   "id": "8ee249af-f555-4bf1-ac5c-9b46b4abd3a4",
   "metadata": {},
   "outputs": [],
   "source": [
    "weights1 = torch.randn((9,256), dtype=float, requires_grad=True)\n",
    "bias1 = torch.randn(256, dtype=float, requires_grad=True)\n",
    "weights2 = torch.randn((256, 501), dtype=float, requires_grad=True)\n",
    "bias2 = torch.randn(501, dtype=float, requires_grad=True)"
   ]
  },
  {
   "cell_type": "markdown",
   "id": "bbf6561c-6bec-412a-9d49-2a2569650e91",
   "metadata": {},
   "source": [
    "### Set learning rate and loss function"
   ]
  },
  {
   "cell_type": "code",
   "execution_count": 243,
   "id": "651d42ec-8631-4e70-9262-0c10043280a0",
   "metadata": {},
   "outputs": [],
   "source": [
    "learning_rate = 0.001\n",
    "losses = []"
   ]
  },
  {
   "cell_type": "markdown",
   "id": "a8298ed3-cb8a-4b47-96f6-e8ad9913b595",
   "metadata": {},
   "source": [
    "### Training"
   ]
  },
  {
   "cell_type": "code",
   "execution_count": 244,
   "id": "10b527f6-dd79-48e4-ac03-a7b2403e705a",
   "metadata": {},
   "outputs": [
    {
     "name": "stdout",
     "output_type": "stream",
     "text": [
      "loss: tensor(15123.5488, dtype=torch.float64, grad_fn=<MeanBackward0>)\n",
      "loss: tensor(9093.8801, dtype=torch.float64, grad_fn=<MeanBackward0>)\n",
      "loss: tensor(3266.8429, dtype=torch.float64, grad_fn=<MeanBackward0>)\n",
      "loss: tensor(1171.4331, dtype=torch.float64, grad_fn=<MeanBackward0>)\n",
      "loss: tensor(709.6989, dtype=torch.float64, grad_fn=<MeanBackward0>)\n",
      "loss: tensor(526.0109, dtype=torch.float64, grad_fn=<MeanBackward0>)\n",
      "loss: tensor(419.3225, dtype=torch.float64, grad_fn=<MeanBackward0>)\n",
      "loss: tensor(347.7713, dtype=torch.float64, grad_fn=<MeanBackward0>)\n",
      "loss: tensor(296.3295, dtype=torch.float64, grad_fn=<MeanBackward0>)\n",
      "loss: tensor(257.8778, dtype=torch.float64, grad_fn=<MeanBackward0>)\n"
     ]
    }
   ],
   "source": [
    "for i in range(1000):\n",
    "    # Calculate the hidden layer\n",
    "    hidden = x.mm(weights1) + bias1\n",
    "    hidden = torch.relu(hidden)\n",
    "\n",
    "    # Predict\n",
    "    predictions = hidden.mm(weights2) + bias2\n",
    "\n",
    "    # Calculate losses(MSE)\n",
    "    loss = torch.mean((predictions - y)**2)\n",
    "    losses.append(loss.data.numpy())\n",
    "\n",
    "    # Print losses\n",
    "    if i % 100 == 0:\n",
    "        print(\"loss:\", loss)\n",
    "\n",
    "    # Grad backwards\n",
    "    loss.backward()\n",
    "\n",
    "    # Update weights and bias\n",
    "    weights1.data.add_(-learning_rate * weights1.grad.data)\n",
    "    bias1.data.add_(-learning_rate * bias1.grad.data)\n",
    "    weights2.data.add_(-learning_rate * weights2.grad.data)\n",
    "    bias2.data.add_(-learning_rate * bias2.grad.data)\n",
    "\n",
    "    # Empty weights and bias to make sure their independence\n",
    "    weights1.grad.data.zero_()\n",
    "    bias1.grad.data.zero_()\n",
    "    weights2.grad.data.zero_()\n",
    "    bias2.grad.data.zero_()"
   ]
  },
  {
   "cell_type": "markdown",
   "id": "a7b908eb-9203-4702-912c-90dc36937bf3",
   "metadata": {},
   "source": [
    "check predictions array shape"
   ]
  },
  {
   "cell_type": "code",
   "execution_count": 245,
   "id": "d16e644d-5b4c-4a2d-95f2-dfa9657044b6",
   "metadata": {},
   "outputs": [
    {
     "data": {
      "text/plain": [
       "torch.Size([392, 501])"
      ]
     },
     "execution_count": 245,
     "metadata": {},
     "output_type": "execute_result"
    }
   ],
   "source": [
    "predictions.shape"
   ]
  },
  {
   "cell_type": "markdown",
   "id": "705f370a-3393-4ab3-adaf-aebf225d2bf2",
   "metadata": {},
   "source": [
    "### Output predictions"
   ]
  },
  {
   "cell_type": "code",
   "execution_count": 246,
   "id": "91823be1-915d-4202-a189-ccab54cd35d6",
   "metadata": {},
   "outputs": [
    {
     "data": {
      "text/plain": [
       "(392, 501)"
      ]
     },
     "execution_count": 246,
     "metadata": {},
     "output_type": "execute_result"
    }
   ],
   "source": [
    "predict = predictions.data.numpy()\n",
    "predict.shape"
   ]
  },
  {
   "cell_type": "markdown",
   "id": "bf1ee01a-bbc9-44b4-a075-3f243f093165",
   "metadata": {},
   "source": [
    "### Compare predictions to actural values"
   ]
  },
  {
   "cell_type": "code",
   "execution_count": 247,
   "id": "e3fb6d09-871a-4ed9-a572-aa75d40151b6",
   "metadata": {},
   "outputs": [
    {
     "data": {
      "image/png": "[encoded data removed]",
      "text/plain": [
       "<Figure size 640x480 with 1 Axes>"
      ]
     },
     "metadata": {},
     "output_type": "display_data"
    }
   ],
   "source": [
    "# Set group number array\n",
    "# group_num = np.arange(1, 393)\n",
    "\n",
    "# Compare actural values with prediction\n",
    "plt.plot(labels[:, 0], predict[:, 0], 'b-')\n",
    "\n",
    "# Set graph config\n",
    "plt.xlabel('Actural'); plt.ylabel('Prediction'); plt.title('Prediction vs Actural')\n",
    "plt.show()"
   ]
  },
  {
   "cell_type": "code",
   "execution_count": null,
   "id": "8348b9f5-8dba-4850-87f1-65bf22a6bdc1",
   "metadata": {},
   "outputs": [],
   "source": []
  }
 ],
 "metadata": {
  "kernelspec": {
   "display_name": "Python 3 (ipykernel)",
   "language": "python",
   "name": "python3"
  },
  "language_info": {
   "codemirror_mode": {
    "name": "ipython",
    "version": 3
   },
   "file_extension": ".py",
   "mimetype": "text/x-python",
   "name": "python",
   "nbconvert_exporter": "python",
   "pygments_lexer": "ipython3",
   "version": "3.12.7"
  }
 },
 "nbformat": 4,
 "nbformat_minor": 5
}
